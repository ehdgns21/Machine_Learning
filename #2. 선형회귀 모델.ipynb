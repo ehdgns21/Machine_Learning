{
 "cells": [
  {
   "cell_type": "code",
   "execution_count": 2,
   "metadata": {},
   "outputs": [],
   "source": [
    "#필요 라이브러리 임포트\n",
    "from IPython.display import display\n",
    "import numpy as np\n",
    "import matplotlib.pyplot as plt\n",
    "import pandas as pd\n",
    "import mglearn\n",
    "plt.rcParams['axes.unicode_minus'] = False\n",
    "\n",
    "import platform\n",
    "path = 'c:/Windows/Fonts/malgun.ttf'\n",
    "from matplotlib import font_manager, rc\n",
    "if platform.system() == 'Darwin':\n",
    "    rc('font', family='AppleGothic')\n",
    "elif platform.system() == 'Windows':\n",
    "    font_name = font_manager.FontProperties(fname=path).get_name()\n",
    "    rc('font', family=font_name)\n",
    "else:\n",
    "    print('Unknown system... sorry~~~~~')"
   ]
  },
  {
   "cell_type": "code",
   "execution_count": 3,
   "metadata": {},
   "outputs": [
    {
     "name": "stdout",
     "output_type": "stream",
     "text": [
      "w[0]: 0.393906  b: -0.031804\n"
     ]
    },
    {
     "data": {
      "image/png": "[encoded data removed]",
      "text/plain": [
       "<Figure size 576x576 with 1 Axes>"
      ]
     },
     "metadata": {},
     "output_type": "display_data"
    }
   ],
   "source": [
    "mglearn.plots.plot_linear_regression_wave() # mglearn 샘플 그래프 보기"
   ]
  },
  {
   "cell_type": "code",
   "execution_count": 5,
   "metadata": {},
   "outputs": [],
   "source": [
    "# 일반화 성능 평가를 위해 기존 데이터를 훈련 세트와 테스트 세트로 나눔\n",
    "from sklearn.model_selection import train_test_split\n",
    "# 60개의 샘플 데이터 준비\n",
    "from sklearn.linear_model import LinearRegression"
   ]
  },
  {
   "cell_type": "code",
   "execution_count": 6,
   "metadata": {},
   "outputs": [],
   "source": [
    "# Wave데이터셋 준비 : 60개의 샘플 데이터\n",
    "X, y = mglearn.datasets.make_wave(n_samples=60)\n",
    "\n",
    "# 훈련, 테스트 데이터셋 준비 : 섞고, 자르기\n",
    "X_train, X_test, y_train, y_test = train_test_split(X, y, random_state=42) "
   ]
  },
  {
   "cell_type": "code",
   "execution_count": 7,
   "metadata": {},
   "outputs": [
    {
     "data": {
      "text/plain": [
       "LinearRegression(copy_X=True, fit_intercept=True, n_jobs=1, normalize=False)"
      ]
     },
     "execution_count": 7,
     "metadata": {},
     "output_type": "execute_result"
    }
   ],
   "source": [
    "# 선형 회귀 모델에 훈련!\n",
    "lr = LinearRegression()\n",
    "lr.fit(X_train, y_train)"
   ]
  },
  {
   "cell_type": "code",
   "execution_count": 8,
   "metadata": {},
   "outputs": [
    {
     "name": "stdout",
     "output_type": "stream",
     "text": [
      "lr의 계수(weight 또는 cofficient) : [0.39390555]\n",
      "lr의 편향(offset 또는 intercept) : -0.031804343026759746\n"
     ]
    }
   ],
   "source": [
    "print(\"lr의 계수(weight 또는 cofficient) : {}\".format(lr.coef_)) # w(weight)은 배열형태로 나옴\n",
    "print(\"lr의 편향(offset 또는 intercept) : {}\".format(lr.intercept_))  # b(offset)"
   ]
  },
  {
   "cell_type": "code",
   "execution_count": 16,
   "metadata": {},
   "outputs": [
    {
     "name": "stdout",
     "output_type": "stream",
     "text": [
      "wave 훈련 세트 점수 : 0.9523526436864237\n",
      "wave 테스트 세트 점수 : 0.6057754892935652\n"
     ]
    }
   ],
   "source": [
    "print(\"wave 훈련 세트 점수 : {}\".format(lr.score(X_train,y_train)))\n",
    "print(\"wave 테스트 세트 점수 : {}\".format(lr.score(X_test, y_test)))"
   ]
  },
  {
   "cell_type": "markdown",
   "metadata": {},
   "source": [
    "w(weight)은 배열형태로 나옴\n",
    "b(offset)\n",
    "\n",
    "회귀에서의 점수는 R2 (결정계수)이 score가 된다."
   ]
  },
  {
   "cell_type": "code",
   "execution_count": 15,
   "metadata": {},
   "outputs": [
    {
     "name": "stdout",
     "output_type": "stream",
     "text": [
      "보스턴 훈련 세트 점수 : 0.95\n",
      "보스턴 테스트 세트 점수 : 0.61\n"
     ]
    }
   ],
   "source": [
    "# feature가 많은 보스턴 데이터 세트로 선형회귀 확인 : 보스턴 부동산 데이터셋\n",
    "X, y = mglearn.datasets.load_extended_boston()\n",
    "\n",
    "X_train, X_test, y_train, y_test = train_test_split(X, y, random_state = 0)\n",
    "lr = LinearRegression().fit(X_train, y_train)\n",
    "\n",
    "print(\"보스턴 훈련 세트 점수 : {:.2f}\".format(lr.score(X_train, y_train)))\n",
    "print(\"보스턴 테스트 세트 점수 : {:.2f}\".format(lr.score(X_test, y_test)))"
   ]
  },
  {
   "cell_type": "markdown",
   "metadata": {},
   "source": [
    "확실한 과대적합이라 보면된다 > 가중치를 낮춰주면 된다"
   ]
  },
  {
   "cell_type": "markdown",
   "metadata": {},
   "source": [
    "* 선형회귀 방식\n",
    "\n",
    "1 Ridge방식(더 많이 씀)\n",
    " - MSE\n",
    " - L2 NORM\n",
    " - 모든 특성의 가중치를 0에 수렴하도록 만듬(0은 안만듬) : 입력된 특징을 다 사용\n",
    " - y = w[0]∗x[0] + w[1]∗x[1] + b 에서 w[0]을 0입력은 안해서 다씀\n",
    " \n",
    "2 Lasso방식\n",
    " - MAE\n",
    " - L1 NORM\n",
    "\n",
    "1 2 공통점 : alpha(조절parameter)로 가중치 조절가능\n",
    "\n",
    " - 가중치를 조절하는 parameter : alpha(penalty)값 \n",
    "\n",
    "cf. L1,L2 norm 섞어쓰는것 : 엘라스틴 norm\n",
    "\n",
    "\n",
    "\n",
    "\n"
   ]
  },
  {
   "cell_type": "markdown",
   "metadata": {},
   "source": [
    " $alpha$ 값은 보통 로그 스케일(100,10,1,0.1,0.01....)으로 부여하는 것이 일반적"
   ]
  },
  {
   "cell_type": "code",
   "execution_count": 17,
   "metadata": {},
   "outputs": [
    {
     "name": "stdout",
     "output_type": "stream",
     "text": [
      "훈련 세트 점수 : 0.89\n",
      "테스트 세트 점수 : 0.75\n"
     ]
    }
   ],
   "source": [
    "from sklearn.linear_model import Ridge\n",
    "\n",
    "ridge = Ridge().fit(X_train, y_train)\n",
    "print(\"훈련 세트 점수 : {:.2f}\".format(ridge.score(X_train, y_train)))\n",
    "print(\"테스트 세트 점수 : {:.2f}\".format(ridge.score(X_test, y_test)))"
   ]
  },
  {
   "cell_type": "code",
   "execution_count": 24,
   "metadata": {},
   "outputs": [
    {
     "name": "stdout",
     "output_type": "stream",
     "text": [
      "훈련 세트 점수 : 0.79\n",
      "테스트 세트 점수 : 0.64\n"
     ]
    }
   ],
   "source": [
    "# ridge에 alpha값을 부여 > 그래프 왼쪽으로\n",
    "ridge10 = Ridge(alpha=10).fit(X_train, y_train)\n",
    "print(\"훈련 세트 점수 : {:.2f}\".format(ridge10.score(X_train, y_train)))\n",
    "print(\"테스트 세트 점수 : {:.2f}\".format(ridge10.score(X_test, y_test)))"
   ]
  },
  {
   "cell_type": "code",
   "execution_count": 25,
   "metadata": {},
   "outputs": [
    {
     "name": "stdout",
     "output_type": "stream",
     "text": [
      "훈련 세트 점수 : 0.93\n",
      "테스트 세트 점수 : 0.77\n"
     ]
    }
   ],
   "source": [
    "# ridge에 낮은 alpha값 > 그래프 오른쪽으로\n",
    "ridge01 = Ridge(alpha=0.1).fit(X_train, y_train)\n",
    "print(\"훈련 세트 점수 : {:.2f}\".format(ridge01.score(X_train, y_train)))\n",
    "print(\"테스트 세트 점수 : {:.2f}\".format(ridge01.score(X_test, y_test)))"
   ]
  },
  {
   "cell_type": "code",
   "execution_count": 26,
   "metadata": {},
   "outputs": [
    {
     "data": {
      "text/plain": [
       "<matplotlib.legend.Legend at 0x1951913ccf8>"
      ]
     },
     "execution_count": 26,
     "metadata": {},
     "output_type": "execute_result"
    },
    {
     "data": {
      "image/png": "[encoded data removed]",
      "text/plain": [
       "<Figure size 432x288 with 1 Axes>"
      ]
     },
     "metadata": {},
     "output_type": "display_data"
    }
   ],
   "source": [
    "plt.plot(ridge10.coef_, '^', label=\"Ridge alpha 10\")\n",
    "plt.plot(ridge.coef_, 's', label=\"Ridge alpha 1.0\")\n",
    "plt.plot(ridge01.coef_, 'v', label=\"Ridge alpha 0.1\")\n",
    "\n",
    "plt.plot(lr.coef_, 'o', label=\"LinearRegression\")\n",
    "plt.xlabel(\"계수 목록\")\n",
    "plt.ylabel(\"계수 크기\")\n",
    "plt.hlines(0, 0, len(lr.coef_))\n",
    "plt.ylim(-25, 25)\n",
    "plt.legend()"
   ]
  },
  {
   "cell_type": "markdown",
   "metadata": {},
   "source": [
    "* alpha의 특징 : w(가중치) 억제 \n",
    " - alpha ↑  w ↓"
   ]
  },
  {
   "cell_type": "code",
   "execution_count": null,
   "metadata": {},
   "outputs": [],
   "source": []
  }
 ],
 "metadata": {
  "kernelspec": {
   "display_name": "Python 3",
   "language": "python",
   "name": "python3"
  },
  "language_info": {
   "codemirror_mode": {
    "name": "ipython",
    "version": 3
   },
   "file_extension": ".py",
   "mimetype": "text/x-python",
   "name": "python",
   "nbconvert_exporter": "python",
   "pygments_lexer": "ipython3",
   "version": "3.6.5"
  }
 },
 "nbformat": 4,
 "nbformat_minor": 2
}
